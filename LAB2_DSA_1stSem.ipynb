{
 "cells": [
  {
   "cell_type": "markdown",
   "metadata": {},
   "source": [
    "## Richard Vladimir C. Natividad\n",
    "## BSCpE 2-3 \n",
    "## Data Structure and Algorithm\n",
    "\n",
    "# Lab 2 Exercise 1\n",
    "#### A teacher named Mrs. Rivera who loved making math fun for her students. One day, a student named Mia asked how to calculate powers, like (2^7). Mrs. Rivera explained, “Imagine you need to multiply 2 by itself seven times. We can solve this using a python code utilizing  special method called recursion to solve this,” \n",
    "### Can you help the class of Mrs. Rivera by providing the recursive method to calculate powers?"
   ]
  },
  {
   "cell_type": "code",
   "execution_count": null,
   "metadata": {},
   "outputs": [],
   "source": [
    "# Recursive function to calculate power\n",
    "def power(base, exponent):\n",
    "    # Base case: Any number raised to the power of 0 is 1\n",
    "    if exponent == 0:\n",
    "        return 1\n",
    "    else:\n",
    "        # Recursive case: Multiply base by the result of base^(exponent - 1)\n",
    "        return base * power(base, exponent - 1)\n",
    "\n",
    "# Example usage\n",
    "base = int(input(\"Enter any number: \"))\n",
    "exponent = int(input(\"Enter any number: \"))\n",
    "result = power(base, exponent)\n",
    "print(f\"{base}^{exponent} = {result}\")\n"
   ]
  },
  {
   "cell_type": "markdown",
   "metadata": {},
   "source": [
    "## Lab 2 Exercise 2\n",
    "#### compute for the cube of integers. \n",
    "\n",
    "Steps:\n",
    "1. Input the size of the array.\n",
    "2. input the elements of the array\n",
    "3. display the cube of each element"
   ]
  },
  {
   "cell_type": "raw",
   "metadata": {
    "vscode": {
     "languageId": "raw"
    }
   },
   "source": [
    "Sample output\n",
    "\n",
    "Enter the size of the array : 3\n",
    "Enter the elements separated by space: 3 10 20\n",
    "27\n",
    "1000\n",
    "8000"
   ]
  },
  {
   "cell_type": "code",
   "execution_count": null,
   "metadata": {},
   "outputs": [],
   "source": [
    "# Function to calculate the cube of elements in an array\n",
    "def compute_cubes(arr):\n",
    "    cubes = [num ** 3 for num in arr]  # Cube each element in the array\n",
    "    return cubes\n",
    "\n",
    "# Input the size of the array\n",
    "size = int(input(\"Enter the size of the array: \"))\n",
    "\n",
    "# Input the elements of the array\n",
    "arr = list(map(int, input(\"Enter the elements separated by space: \").split()))\n",
    "\n",
    "# Display the cube of each element\n",
    "cubes = compute_cubes(arr)\n",
    "for cube in cubes:\n",
    "    print(cube)\n"
   ]
  },
  {
   "cell_type": "markdown",
   "metadata": {},
   "source": [
    "## Lab 2 Exercise 3\n",
    "#### Generate a hollow square based on the + integer input side length n.\n",
    "\n"
   ]
  },
  {
   "cell_type": "raw",
   "metadata": {
    "vscode": {
     "languageId": "raw"
    }
   },
   "source": [
    "Sample output\n",
    "\n",
    "Enter the side length of the square: 6\n",
    "xxxxxx\n",
    "x    x\n",
    "x    x\n",
    "x    x\n",
    "x    x\n",
    "xxxxxx"
   ]
  },
  {
   "cell_type": "code",
   "execution_count": null,
   "metadata": {},
   "outputs": [],
   "source": [
    "# Function to generate a hollow square\n",
    "def hollow_square(n):\n",
    "    for i in range(n):\n",
    "        if i == 0 or i == n - 1:\n",
    "            # First and last row: print 'x' across the full width\n",
    "            print('x' * n)\n",
    "        else:\n",
    "            # Middle rows: print 'x' at the start and end with spaces in between\n",
    "            print('x' + ' ' * (n - 2) + 'x')\n",
    "\n",
    "# Input the side length of the square\n",
    "n = int(input(\"Enter the side length of the square: \"))\n",
    "\n",
    "# Generate and display the hollow square\n",
    "hollow_square(n)\n"
   ]
  },
  {
   "cell_type": "markdown",
   "metadata": {},
   "source": [
    "### Lab 2 Exercise 4\n",
    "#### Generate an inverted right triangle of height n."
   ]
  },
  {
   "cell_type": "raw",
   "metadata": {
    "vscode": {
     "languageId": "raw"
    }
   },
   "source": [
    "Sample output\n",
    "\n",
    "Enter the height of the triangle: 6\n",
    "******\n",
    "*****\n",
    "****\n",
    "***\n",
    "**\n",
    "*"
   ]
  },
  {
   "cell_type": "code",
   "execution_count": null,
   "metadata": {},
   "outputs": [],
   "source": [
    "# Function to generate an inverted right triangle\n",
    "def inverted_triangle(height):\n",
    "    for i in range(height, 0, -1):\n",
    "        # Print 'i' number of asterisks in each row\n",
    "        print('*' * i)\n",
    "\n",
    "# Input the height of the triangle\n",
    "n = int(input(\"Enter the height of the triangle: \"))\n",
    "\n",
    "# Generate and display the inverted triangle\n",
    "inverted_triangle(n)\n"
   ]
  }
 ],
 "metadata": {
  "kernelspec": {
   "display_name": "Python 3",
   "language": "python",
   "name": "python3"
  },
  "language_info": {
   "name": "python",
   "version": "3.11.9"
  }
 },
 "nbformat": 4,
 "nbformat_minor": 2
}
